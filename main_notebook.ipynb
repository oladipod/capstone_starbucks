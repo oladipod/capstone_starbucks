{
 "cells": [
  {
   "cell_type": "markdown",
   "id": "ccabdbea",
   "metadata": {},
   "source": [
    "# Starbucks Capstone Challenge\n",
    "\n",
    "### Introduction\n",
    "\n",
    "This data set contains simulated data that mimics customer behavior on the Starbucks rewards mobile app. Once every few days, Starbucks sends out an offer to users of the mobile app. An offer can be merely an advertisement for a drink or an actual offer such as a discount or BOGO (buy one get one free). Some users might not receive any offer during certain weeks. \n",
    "\n",
    "Not all users receive the same offer, and that is the challenge to solve with this data set.\n",
    "\n",
    "Your task is to combine transaction, demographic and offer data to <b>determine which demographic groups respond best to which offer type</b>. This data set is a simplified version of the real Starbucks app because the underlying simulator only has one product whereas Starbucks actually sells dozens of products.\n",
    "\n",
    "Every offer has a validity period before the offer expires. As an example, a BOGO offer might be valid for only 5 days. You'll see in the data set that informational offers have a validity period even though these ads are merely providing information about a product; for example, if an informational offer has 7 days of validity, you can assume the customer is <b>feeling the influence of the offer</b>for 7 days after receiving the advertisement.\n",
    "\n",
    "You'll be given transactional data showing user purchases made on the app including the timestamp of purchase and the amount of money spent on a purchase. This transactional data also has a record for each offer that a user receives as well as a record for when a user actually views the offer. There are also records for when a user completes an offer. \n",
    "\n",
    "Keep in mind as well that someone using the app might make a purchase through the app without having received an offer or seen an offer.\n",
    "\n",
    "### Example\n",
    "\n",
    "To give an example, a user could receive a discount offer buy 10 dollars get 2 off on Monday. The offer is valid for 10 days from receipt. If the customer accumulates at least 10 dollars in purchases during the validity period, the customer completes the offer.\n",
    "\n",
    "However, there are a few things to watch out for in this data set. Customers do not opt into the offers that they receive; in other words, a user can receive an offer, never actually view the offer, and still complete the offer. For example, a user might receive the \"buy 10 dollars get 2 dollars off offer\", but the user never opens the offer during the 10 day validity period. The customer spends 15 dollars during those ten days. There will be an offer completion record in the data set; however, the customer was not influenced by the offer because the customer never viewed the offer.\n",
    "\n",
    "### Cleaning\n",
    "\n",
    "This makes data cleaning especially important and tricky.\n",
    "\n",
    "You'll also want to take into account that some demographic groups will make purchases even if they don't receive an offer. From a business perspective, if a customer is going to make a 10 dollar purchase without an offer anyway, you wouldn't want to send a buy 10 dollars get 2 dollars off offer. You'll want to try to assess what a certain demographic group will buy when not receiving any offers.\n",
    "\n",
    "### Final Advice\n",
    "\n",
    "Because this is a capstone project, you are free to analyze the data any way you see fit. For example, you could build a machine learning model that predicts how much someone will spend based on demographics and offer type. Or you could build a model that predicts whether or not someone will respond to an offer. Or, you don't need to build a machine learning model at all. You could develop a set of heuristics that determine what offer you should send to each customer (i.e., 75 percent of women customers who were 35 years old responded to offer A vs 40 percent from the same demographic to offer B, so send offer A)."
   ]
  },
  {
   "cell_type": "markdown",
   "id": "f98899c2",
   "metadata": {},
   "source": [
    "# Data Sets\n",
    "\n",
    "The data is contained in three files:\n",
    "\n",
    "* portfolio.json - containing offer ids and meta data about each offer (duration, type, etc.)\n",
    "* profile.json - demographic data for each customer\n",
    "* transcript.json - records for transactions, offers received, offers viewed, and offers completed\n",
    "\n",
    "Here is the schema and explanation of each variable in the files:\n",
    "\n",
    "**portfolio.json**\n",
    "* id (string) - offer id\n",
    "* offer_type (string) - type of offer ie BOGO, discount, informational\n",
    "* difficulty (int) - minimum required spend to complete an offer\n",
    "* reward (int) - reward given for completing an offer\n",
    "* duration (int) - time for offer to be open, in days\n",
    "* channels (list of strings)\n",
    "\n",
    "\n",
    "\n",
    "**transcript.json**\n",
    "* event (str) - record description (ie transaction, offer received, offer viewed, etc.)\n",
    "* person (str) - customer id\n",
    "* time (int) - time in hours since start of test. The data begins at time t=0\n",
    "* value - (dict of strings) - either an offer id or transaction amount depending on the record\n",
    "\n",
    "**Note:** If you are using the workspace, you will need to go to the terminal and run the command `conda update pandas` before reading in the files. This is because the version of pandas in the workspace cannot read in the transcript.json file correctly, but the newest version of pandas can. You can access the termnal from the orange icon in the top left of this notebook.  \n",
    "\n",
    "You can see how to access the terminal and how the install works using the two images below.  First you need to access the terminal:\n",
    "\n",
    "<img src=\"pic1.png\"/>\n",
    "\n",
    "Then you will want to run the above command:\n",
    "\n",
    "<img src=\"pic2.png\"/>\n",
    "\n",
    "Finally, when you enter back into the notebook (use the jupyter icon again), you should be able to run the below cell without any errors."
   ]
  },
  {
   "cell_type": "code",
   "execution_count": 5,
   "id": "83cb7491",
   "metadata": {},
   "outputs": [],
   "source": [
    "import pandas as pd\n",
    "import numpy as np\n",
    "import math\n",
    "import json\n",
    "# import matplotlib\n",
    "%matplotlib inline\n",
    "\n",
    "# read in the json files\n",
    "portfolio = pd.read_json('data/portfolio.json', orient='records', lines=True)\n",
    "profile = pd.read_json('data/profile.json', orient='records', lines=True)\n",
    "transcript = pd.read_json('data/transcript.json', orient='records', lines=True)"
   ]
  },
  {
   "cell_type": "markdown",
   "id": "ac09b4bc",
   "metadata": {},
   "source": [
    "## Exploratory Data Analysis"
   ]
  },
  {
   "cell_type": "markdown",
   "id": "1c7a3856",
   "metadata": {},
   "source": [
    "### portfolio.json\n",
    "* id (string) - offer id\n",
    "* offer_type (string) - type of offer ie BOGO, discount, informational\n",
    "* difficulty (int) - minimum required spend to complete an offer\n",
    "* reward (int) - reward given for completing an offer\n",
    "* duration (int) - time for offer to be open, in days\n",
    "* channels (list of strings)\n",
    "\n"
   ]
  },
  {
   "cell_type": "code",
   "execution_count": 8,
   "id": "6a5d92cf",
   "metadata": {},
   "outputs": [
    {
     "data": {
      "text/html": [
       "<div>\n",
       "<style scoped>\n",
       "    .dataframe tbody tr th:only-of-type {\n",
       "        vertical-align: middle;\n",
       "    }\n",
       "\n",
       "    .dataframe tbody tr th {\n",
       "        vertical-align: top;\n",
       "    }\n",
       "\n",
       "    .dataframe thead th {\n",
       "        text-align: right;\n",
       "    }\n",
       "</style>\n",
       "<table border=\"1\" class=\"dataframe\">\n",
       "  <thead>\n",
       "    <tr style=\"text-align: right;\">\n",
       "      <th></th>\n",
       "      <th>reward</th>\n",
       "      <th>channels</th>\n",
       "      <th>difficulty</th>\n",
       "      <th>duration</th>\n",
       "      <th>offer_type</th>\n",
       "      <th>id</th>\n",
       "    </tr>\n",
       "  </thead>\n",
       "  <tbody>\n",
       "    <tr>\n",
       "      <th>0</th>\n",
       "      <td>10</td>\n",
       "      <td>[email, mobile, social]</td>\n",
       "      <td>10</td>\n",
       "      <td>7</td>\n",
       "      <td>bogo</td>\n",
       "      <td>ae264e3637204a6fb9bb56bc8210ddfd</td>\n",
       "    </tr>\n",
       "    <tr>\n",
       "      <th>1</th>\n",
       "      <td>10</td>\n",
       "      <td>[web, email, mobile, social]</td>\n",
       "      <td>10</td>\n",
       "      <td>5</td>\n",
       "      <td>bogo</td>\n",
       "      <td>4d5c57ea9a6940dd891ad53e9dbe8da0</td>\n",
       "    </tr>\n",
       "    <tr>\n",
       "      <th>2</th>\n",
       "      <td>0</td>\n",
       "      <td>[web, email, mobile]</td>\n",
       "      <td>0</td>\n",
       "      <td>4</td>\n",
       "      <td>informational</td>\n",
       "      <td>3f207df678b143eea3cee63160fa8bed</td>\n",
       "    </tr>\n",
       "    <tr>\n",
       "      <th>3</th>\n",
       "      <td>5</td>\n",
       "      <td>[web, email, mobile]</td>\n",
       "      <td>5</td>\n",
       "      <td>7</td>\n",
       "      <td>bogo</td>\n",
       "      <td>9b98b8c7a33c4b65b9aebfe6a799e6d9</td>\n",
       "    </tr>\n",
       "    <tr>\n",
       "      <th>4</th>\n",
       "      <td>5</td>\n",
       "      <td>[web, email]</td>\n",
       "      <td>20</td>\n",
       "      <td>10</td>\n",
       "      <td>discount</td>\n",
       "      <td>0b1e1539f2cc45b7b9fa7c272da2e1d7</td>\n",
       "    </tr>\n",
       "    <tr>\n",
       "      <th>5</th>\n",
       "      <td>3</td>\n",
       "      <td>[web, email, mobile, social]</td>\n",
       "      <td>7</td>\n",
       "      <td>7</td>\n",
       "      <td>discount</td>\n",
       "      <td>2298d6c36e964ae4a3e7e9706d1fb8c2</td>\n",
       "    </tr>\n",
       "    <tr>\n",
       "      <th>6</th>\n",
       "      <td>2</td>\n",
       "      <td>[web, email, mobile, social]</td>\n",
       "      <td>10</td>\n",
       "      <td>10</td>\n",
       "      <td>discount</td>\n",
       "      <td>fafdcd668e3743c1bb461111dcafc2a4</td>\n",
       "    </tr>\n",
       "    <tr>\n",
       "      <th>7</th>\n",
       "      <td>0</td>\n",
       "      <td>[email, mobile, social]</td>\n",
       "      <td>0</td>\n",
       "      <td>3</td>\n",
       "      <td>informational</td>\n",
       "      <td>5a8bc65990b245e5a138643cd4eb9837</td>\n",
       "    </tr>\n",
       "    <tr>\n",
       "      <th>8</th>\n",
       "      <td>5</td>\n",
       "      <td>[web, email, mobile, social]</td>\n",
       "      <td>5</td>\n",
       "      <td>5</td>\n",
       "      <td>bogo</td>\n",
       "      <td>f19421c1d4aa40978ebb69ca19b0e20d</td>\n",
       "    </tr>\n",
       "    <tr>\n",
       "      <th>9</th>\n",
       "      <td>2</td>\n",
       "      <td>[web, email, mobile]</td>\n",
       "      <td>10</td>\n",
       "      <td>7</td>\n",
       "      <td>discount</td>\n",
       "      <td>2906b810c7d4411798c6938adc9daaa5</td>\n",
       "    </tr>\n",
       "  </tbody>\n",
       "</table>\n",
       "</div>"
      ],
      "text/plain": [
       "   reward                      channels  difficulty  duration     offer_type  \\\n",
       "0      10       [email, mobile, social]          10         7           bogo   \n",
       "1      10  [web, email, mobile, social]          10         5           bogo   \n",
       "2       0          [web, email, mobile]           0         4  informational   \n",
       "3       5          [web, email, mobile]           5         7           bogo   \n",
       "4       5                  [web, email]          20        10       discount   \n",
       "5       3  [web, email, mobile, social]           7         7       discount   \n",
       "6       2  [web, email, mobile, social]          10        10       discount   \n",
       "7       0       [email, mobile, social]           0         3  informational   \n",
       "8       5  [web, email, mobile, social]           5         5           bogo   \n",
       "9       2          [web, email, mobile]          10         7       discount   \n",
       "\n",
       "                                 id  \n",
       "0  ae264e3637204a6fb9bb56bc8210ddfd  \n",
       "1  4d5c57ea9a6940dd891ad53e9dbe8da0  \n",
       "2  3f207df678b143eea3cee63160fa8bed  \n",
       "3  9b98b8c7a33c4b65b9aebfe6a799e6d9  \n",
       "4  0b1e1539f2cc45b7b9fa7c272da2e1d7  \n",
       "5  2298d6c36e964ae4a3e7e9706d1fb8c2  \n",
       "6  fafdcd668e3743c1bb461111dcafc2a4  \n",
       "7  5a8bc65990b245e5a138643cd4eb9837  \n",
       "8  f19421c1d4aa40978ebb69ca19b0e20d  \n",
       "9  2906b810c7d4411798c6938adc9daaa5  "
      ]
     },
     "execution_count": 8,
     "metadata": {},
     "output_type": "execute_result"
    }
   ],
   "source": [
    "portfolio"
   ]
  },
  {
   "cell_type": "code",
   "execution_count": 2,
   "id": "532f9040",
   "metadata": {
    "scrolled": true
   },
   "outputs": [],
   "source": [
    "# # coded the offer id\n",
    "# offer_code = {'ae264e3637204a6fb9bb56bc8210ddfd' : \"A\", \n",
    "#               '4d5c57ea9a6940dd891ad53e9dbe8da0': \"B\", \n",
    "#               '3f207df678b143eea3cee63160fa8bed': \"C\",\n",
    "#               '9b98b8c7a33c4b65b9aebfe6a799e6d9': \"D\",\n",
    "#               '0b1e1539f2cc45b7b9fa7c272da2e1d7' : \"E\",\n",
    "#               '2298d6c36e964ae4a3e7e9706d1fb8c2': \"F\"\n",
    "#               ''\n",
    "#              }\n",
    "# portfolio[\"id\"] = portfolio[\"id\"].replace(offer_code)"
   ]
  },
  {
   "cell_type": "code",
   "execution_count": null,
   "id": "525e9350",
   "metadata": {},
   "outputs": [],
   "source": []
  },
  {
   "cell_type": "code",
   "execution_count": 9,
   "id": "4ce45775",
   "metadata": {},
   "outputs": [
    {
     "name": "stdout",
     "output_type": "stream",
     "text": [
      "<class 'pandas.core.frame.DataFrame'>\n",
      "RangeIndex: 10 entries, 0 to 9\n",
      "Data columns (total 6 columns):\n",
      " #   Column      Non-Null Count  Dtype \n",
      "---  ------      --------------  ----- \n",
      " 0   reward      10 non-null     int64 \n",
      " 1   channels    10 non-null     object\n",
      " 2   difficulty  10 non-null     int64 \n",
      " 3   duration    10 non-null     int64 \n",
      " 4   offer_type  10 non-null     object\n",
      " 5   id          10 non-null     object\n",
      "dtypes: int64(3), object(3)\n",
      "memory usage: 608.0+ bytes\n"
     ]
    }
   ],
   "source": [
    "portfolio.info()"
   ]
  },
  {
   "cell_type": "code",
   "execution_count": 10,
   "id": "99839279",
   "metadata": {},
   "outputs": [
    {
     "data": {
      "text/plain": [
       "['9b98b8c7a33c4b65b9aebfe6a799e6d9']"
      ]
     },
     "execution_count": 10,
     "metadata": {},
     "output_type": "execute_result"
    }
   ],
   "source": [
    "d=list({'offer id': '9b98b8c7a33c4b65b9aebfe6a799e6d9'}.values())\n",
    "d"
   ]
  },
  {
   "cell_type": "code",
   "execution_count": null,
   "id": "9abfc061",
   "metadata": {},
   "outputs": [],
   "source": []
  },
  {
   "cell_type": "code",
   "execution_count": null,
   "id": "b00df1f3",
   "metadata": {},
   "outputs": [],
   "source": [
    "portfolio.info()"
   ]
  },
  {
   "cell_type": "code",
   "execution_count": 11,
   "id": "e40c0915",
   "metadata": {},
   "outputs": [
    {
     "data": {
      "text/plain": [
       "(10, 6)"
      ]
     },
     "execution_count": 11,
     "metadata": {},
     "output_type": "execute_result"
    }
   ],
   "source": [
    "portfolio.shape"
   ]
  },
  {
   "cell_type": "code",
   "execution_count": null,
   "id": "cab05592",
   "metadata": {},
   "outputs": [],
   "source": [
    "portfolio.describe()"
   ]
  },
  {
   "cell_type": "code",
   "execution_count": null,
   "id": "ddd7c21c",
   "metadata": {},
   "outputs": [],
   "source": [
    "portfolio.isnull().sum()"
   ]
  },
  {
   "cell_type": "code",
   "execution_count": null,
   "id": "d71abef8",
   "metadata": {},
   "outputs": [],
   "source": [
    "portfolio.rename({'id': 'portfolio_id'}, axis =1, inplace=True)"
   ]
  },
  {
   "cell_type": "code",
   "execution_count": null,
   "id": "720c8cca",
   "metadata": {},
   "outputs": [],
   "source": [
    "port_cat = [\"reward\", \"duration\", \"offer_type\", \"difficulty\"]\n"
   ]
  },
  {
   "cell_type": "code",
   "execution_count": null,
   "id": "75d134db",
   "metadata": {},
   "outputs": [],
   "source": [
    "for i in port_cat:\n",
    "    print (i, '=',  portfolio[i].unique())"
   ]
  },
  {
   "cell_type": "code",
   "execution_count": null,
   "id": "2d0ad363",
   "metadata": {},
   "outputs": [],
   "source": [
    "len(portfolio['portfolio_id'].unique())\n"
   ]
  },
  {
   "cell_type": "markdown",
   "id": "223eb57e",
   "metadata": {},
   "source": [
    "- The data types have been well coded\n",
    "- The portfolio rewards are all unique"
   ]
  },
  {
   "cell_type": "markdown",
   "id": "eb38d76e",
   "metadata": {},
   "source": [
    "**profile.json**\n",
    "* age (int) - age of the customer \n",
    "* became_member_on (int) - date when customer created an app account\n",
    "* gender (str) - gender of the customer (note some entries contain 'O' for other rather than M or F)\n",
    "* id (str) - customer id\n",
    "* income (float) - customer's income"
   ]
  },
  {
   "cell_type": "code",
   "execution_count": null,
   "id": "5cc9ac41",
   "metadata": {},
   "outputs": [],
   "source": [
    "profile.head(2)"
   ]
  },
  {
   "cell_type": "code",
   "execution_count": null,
   "id": "27a6a4f7",
   "metadata": {},
   "outputs": [],
   "source": [
    "profile.info()"
   ]
  },
  {
   "cell_type": "code",
   "execution_count": null,
   "id": "9e9a622d",
   "metadata": {},
   "outputs": [],
   "source": [
    "#change datatype for became_memberon column\n",
    "#first, convert col to string then df\n",
    "profile['became_member_on'] = profile['became_member_on'].apply(str)\n",
    "\n",
    "\n",
    "profile['became_member_on'] =  pd.to_datetime(profile['became_member_on'], infer_datetime_format=True)\n",
    "\n",
    "profile.head(2)"
   ]
  },
  {
   "cell_type": "code",
   "execution_count": null,
   "id": "4f343267",
   "metadata": {},
   "outputs": [],
   "source": [
    "profile['became_member_on'].dtype"
   ]
  },
  {
   "cell_type": "code",
   "execution_count": null,
   "id": "a49fc2a7",
   "metadata": {},
   "outputs": [],
   "source": [
    "profile.describe()"
   ]
  },
  {
   "cell_type": "code",
   "execution_count": null,
   "id": "8bdf2232",
   "metadata": {},
   "outputs": [],
   "source": [
    "profile.rename({'id': 'profile_id'}, axis =1, inplace=True)"
   ]
  },
  {
   "cell_type": "code",
   "execution_count": null,
   "id": "d8dfd287",
   "metadata": {},
   "outputs": [],
   "source": [
    "profile.shape"
   ]
  },
  {
   "cell_type": "code",
   "execution_count": null,
   "id": "1991e3dc",
   "metadata": {},
   "outputs": [],
   "source": [
    "print(\"No of unique records in the df (given by report_number) is {}\".format(profile['profile_id'].\n",
    "                                                                                nunique()))"
   ]
  },
  {
   "cell_type": "code",
   "execution_count": null,
   "id": "3413ed62",
   "metadata": {},
   "outputs": [],
   "source": [
    "profile.isnull().sum()"
   ]
  },
  {
   "cell_type": "code",
   "execution_count": null,
   "id": "21b51b03",
   "metadata": {},
   "outputs": [],
   "source": [
    "prof_cat =[\"gender\"]"
   ]
  },
  {
   "cell_type": "code",
   "execution_count": null,
   "id": "8719fcf5",
   "metadata": {},
   "outputs": [],
   "source": [
    "profile['age'].hist()\n",
    "\n",
    "#over 2000 profiles 118 years old is weird"
   ]
  },
  {
   "cell_type": "code",
   "execution_count": null,
   "id": "743ae2dd",
   "metadata": {},
   "outputs": [],
   "source": [
    "for i in prof_cat:\n",
    "    print (i, '=',  profile[i].unique())\n",
    "    \n",
    "\n",
    " "
   ]
  },
  {
   "cell_type": "code",
   "execution_count": null,
   "id": "7cce86a4",
   "metadata": {},
   "outputs": [],
   "source": [
    "subdf_118 = profile[['age','gender','income']][profile['age']==118]\n",
    "                    \n",
    "                    \n",
    "print(subdf_118.head(2))                    \n",
    "print(subdf_118.tail(2))\n",
    "\n",
    "\n",
    "print('no of persons aged 118 is ',subdf_118.shape[0])\n",
    "print('corresponding Gender nulls:', subdf_118['gender'].isnull().sum())\n",
    "print('corresponding income nulls :', subdf_118['income'].isnull().sum())\n"
   ]
  },
  {
   "cell_type": "code",
   "execution_count": null,
   "id": "28fdb4dd",
   "metadata": {},
   "outputs": [],
   "source": [
    "# specific count of profiles exactly of age = 118 and check the subset where age is 118 for the other columns\n",
    "profile[profile['age']==118].count()"
   ]
  },
  {
   "cell_type": "markdown",
   "id": "31808a7b",
   "metadata": {},
   "source": [
    "- some gender has been coded none and o. with missing data.\n",
    "- the datatype for date is not proper.We turn to datetime\n",
    "- max age 118 must be an oulier,we check\n",
    "\n",
    "it is clear that these profiles with this age have no income nor gender recorded, Probably persons who do not like to share such information.\n",
    "\n",
    "To confirm this, we create a sub df of only persons aged 118 and find that every person aged 118 has both gendrr and income missing."
   ]
  },
  {
   "cell_type": "markdown",
   "id": "5340b12d",
   "metadata": {},
   "source": [
    "## Transcript\n"
   ]
  },
  {
   "cell_type": "code",
   "execution_count": 10,
   "id": "198ac83f",
   "metadata": {},
   "outputs": [
    {
     "data": {
      "text/html": [
       "<div>\n",
       "<style scoped>\n",
       "    .dataframe tbody tr th:only-of-type {\n",
       "        vertical-align: middle;\n",
       "    }\n",
       "\n",
       "    .dataframe tbody tr th {\n",
       "        vertical-align: top;\n",
       "    }\n",
       "\n",
       "    .dataframe thead th {\n",
       "        text-align: right;\n",
       "    }\n",
       "</style>\n",
       "<table border=\"1\" class=\"dataframe\">\n",
       "  <thead>\n",
       "    <tr style=\"text-align: right;\">\n",
       "      <th></th>\n",
       "      <th>person</th>\n",
       "      <th>event</th>\n",
       "      <th>value</th>\n",
       "      <th>time</th>\n",
       "      <th>value_trans</th>\n",
       "    </tr>\n",
       "  </thead>\n",
       "  <tbody>\n",
       "    <tr>\n",
       "      <th>306529</th>\n",
       "      <td>b3a1272bc9904337b331bf348c3e8c17</td>\n",
       "      <td>transaction</td>\n",
       "      <td>{'amount': 1.5899999999999999}</td>\n",
       "      <td>714</td>\n",
       "      <td>1.59</td>\n",
       "    </tr>\n",
       "    <tr>\n",
       "      <th>306530</th>\n",
       "      <td>68213b08d99a4ae1b0dcb72aebd9aa35</td>\n",
       "      <td>transaction</td>\n",
       "      <td>{'amount': 9.53}</td>\n",
       "      <td>714</td>\n",
       "      <td>9.53</td>\n",
       "    </tr>\n",
       "    <tr>\n",
       "      <th>306531</th>\n",
       "      <td>a00058cf10334a308c68e7631c529907</td>\n",
       "      <td>transaction</td>\n",
       "      <td>{'amount': 3.61}</td>\n",
       "      <td>714</td>\n",
       "      <td>3.61</td>\n",
       "    </tr>\n",
       "    <tr>\n",
       "      <th>306532</th>\n",
       "      <td>76ddbd6576844afe811f1a3c0fbb5bec</td>\n",
       "      <td>transaction</td>\n",
       "      <td>{'amount': 3.5300000000000002}</td>\n",
       "      <td>714</td>\n",
       "      <td>3.53</td>\n",
       "    </tr>\n",
       "    <tr>\n",
       "      <th>306533</th>\n",
       "      <td>c02b10e8752c4d8e9b73f918558531f7</td>\n",
       "      <td>transaction</td>\n",
       "      <td>{'amount': 4.05}</td>\n",
       "      <td>714</td>\n",
       "      <td>4.05</td>\n",
       "    </tr>\n",
       "  </tbody>\n",
       "</table>\n",
       "</div>"
      ],
      "text/plain": [
       "                                  person        event  \\\n",
       "306529  b3a1272bc9904337b331bf348c3e8c17  transaction   \n",
       "306530  68213b08d99a4ae1b0dcb72aebd9aa35  transaction   \n",
       "306531  a00058cf10334a308c68e7631c529907  transaction   \n",
       "306532  76ddbd6576844afe811f1a3c0fbb5bec  transaction   \n",
       "306533  c02b10e8752c4d8e9b73f918558531f7  transaction   \n",
       "\n",
       "                                 value  time value_trans  \n",
       "306529  {'amount': 1.5899999999999999}   714        1.59  \n",
       "306530                {'amount': 9.53}   714        9.53  \n",
       "306531                {'amount': 3.61}   714        3.61  \n",
       "306532  {'amount': 3.5300000000000002}   714        3.53  \n",
       "306533                {'amount': 4.05}   714        4.05  "
      ]
     },
     "execution_count": 10,
     "metadata": {},
     "output_type": "execute_result"
    }
   ],
   "source": [
    "#recode name for ids of pr\n",
    "transcript['value_trans'] = transcript['value'].apply(lambda x: list(x.values())[0]) #.groupby(['person','value'])['event'].count()\n",
    "transcript['value_trans'] = transcript.value_trans.replace(offer_code)\n",
    "transcript.tail()\n"
   ]
  },
  {
   "cell_type": "code",
   "execution_count": null,
   "id": "591126a8",
   "metadata": {},
   "outputs": [],
   "source": [
    "transcript.groupby(['person','value_trans'])['event'].count()"
   ]
  },
  {
   "cell_type": "code",
   "execution_count": null,
   "id": "f3865bf5",
   "metadata": {},
   "outputs": [],
   "source": []
  },
  {
   "cell_type": "markdown",
   "id": "382e5d70",
   "metadata": {},
   "source": [
    "**transcript.json**\n",
    "* event (str) - record description (ie transaction, offer received, offer viewed, etc.)\n",
    "* person (str) - customer id\n",
    "* time (int) - time in hours since start of test. The data begins at time t=0\n",
    "* value - (dict of strings) - either an offer id or transaction amount depending on the record"
   ]
  },
  {
   "cell_type": "code",
   "execution_count": null,
   "id": "bd998f35",
   "metadata": {},
   "outputs": [],
   "source": [
    "transcript[transcript['event'] == \"transaction\"] "
   ]
  },
  {
   "cell_type": "code",
   "execution_count": 14,
   "id": "73806ff5",
   "metadata": {},
   "outputs": [
    {
     "data": {
      "text/html": [
       "<div>\n",
       "<style scoped>\n",
       "    .dataframe tbody tr th:only-of-type {\n",
       "        vertical-align: middle;\n",
       "    }\n",
       "\n",
       "    .dataframe tbody tr th {\n",
       "        vertical-align: top;\n",
       "    }\n",
       "\n",
       "    .dataframe thead th {\n",
       "        text-align: right;\n",
       "    }\n",
       "</style>\n",
       "<table border=\"1\" class=\"dataframe\">\n",
       "  <thead>\n",
       "    <tr style=\"text-align: right;\">\n",
       "      <th></th>\n",
       "      <th>person</th>\n",
       "      <th>event</th>\n",
       "      <th>value</th>\n",
       "      <th>time</th>\n",
       "      <th>value_trans</th>\n",
       "    </tr>\n",
       "  </thead>\n",
       "  <tbody>\n",
       "    <tr>\n",
       "      <th>0</th>\n",
       "      <td>78afa995795e4d85b5d9ceeca43f5fef</td>\n",
       "      <td>offer received</td>\n",
       "      <td>{'offer id': '9b98b8c7a33c4b65b9aebfe6a799e6d9'}</td>\n",
       "      <td>0</td>\n",
       "      <td>D</td>\n",
       "    </tr>\n",
       "    <tr>\n",
       "      <th>1</th>\n",
       "      <td>a03223e636434f42ac4c3df47e8bac43</td>\n",
       "      <td>offer received</td>\n",
       "      <td>{'offer id': '0b1e1539f2cc45b7b9fa7c272da2e1d7'}</td>\n",
       "      <td>0</td>\n",
       "      <td>E</td>\n",
       "    </tr>\n",
       "    <tr>\n",
       "      <th>2</th>\n",
       "      <td>e2127556f4f64592b11af22de27a7932</td>\n",
       "      <td>offer received</td>\n",
       "      <td>{'offer id': '2906b810c7d4411798c6938adc9daaa5'}</td>\n",
       "      <td>0</td>\n",
       "      <td>2906b810c7d4411798c6938adc9daaa5</td>\n",
       "    </tr>\n",
       "    <tr>\n",
       "      <th>3</th>\n",
       "      <td>8ec6ce2a7e7949b1bf142def7d0e0586</td>\n",
       "      <td>offer received</td>\n",
       "      <td>{'offer id': 'fafdcd668e3743c1bb461111dcafc2a4'}</td>\n",
       "      <td>0</td>\n",
       "      <td>fafdcd668e3743c1bb461111dcafc2a4</td>\n",
       "    </tr>\n",
       "    <tr>\n",
       "      <th>4</th>\n",
       "      <td>68617ca6246f4fbc85e91a2a49552598</td>\n",
       "      <td>offer received</td>\n",
       "      <td>{'offer id': '4d5c57ea9a6940dd891ad53e9dbe8da0'}</td>\n",
       "      <td>0</td>\n",
       "      <td>B</td>\n",
       "    </tr>\n",
       "    <tr>\n",
       "      <th>...</th>\n",
       "      <td>...</td>\n",
       "      <td>...</td>\n",
       "      <td>...</td>\n",
       "      <td>...</td>\n",
       "      <td>...</td>\n",
       "    </tr>\n",
       "    <tr>\n",
       "      <th>306529</th>\n",
       "      <td>b3a1272bc9904337b331bf348c3e8c17</td>\n",
       "      <td>transaction</td>\n",
       "      <td>{'amount': 1.5899999999999999}</td>\n",
       "      <td>714</td>\n",
       "      <td>1.59</td>\n",
       "    </tr>\n",
       "    <tr>\n",
       "      <th>306530</th>\n",
       "      <td>68213b08d99a4ae1b0dcb72aebd9aa35</td>\n",
       "      <td>transaction</td>\n",
       "      <td>{'amount': 9.53}</td>\n",
       "      <td>714</td>\n",
       "      <td>9.53</td>\n",
       "    </tr>\n",
       "    <tr>\n",
       "      <th>306531</th>\n",
       "      <td>a00058cf10334a308c68e7631c529907</td>\n",
       "      <td>transaction</td>\n",
       "      <td>{'amount': 3.61}</td>\n",
       "      <td>714</td>\n",
       "      <td>3.61</td>\n",
       "    </tr>\n",
       "    <tr>\n",
       "      <th>306532</th>\n",
       "      <td>76ddbd6576844afe811f1a3c0fbb5bec</td>\n",
       "      <td>transaction</td>\n",
       "      <td>{'amount': 3.5300000000000002}</td>\n",
       "      <td>714</td>\n",
       "      <td>3.53</td>\n",
       "    </tr>\n",
       "    <tr>\n",
       "      <th>306533</th>\n",
       "      <td>c02b10e8752c4d8e9b73f918558531f7</td>\n",
       "      <td>transaction</td>\n",
       "      <td>{'amount': 4.05}</td>\n",
       "      <td>714</td>\n",
       "      <td>4.05</td>\n",
       "    </tr>\n",
       "  </tbody>\n",
       "</table>\n",
       "<p>306534 rows × 5 columns</p>\n",
       "</div>"
      ],
      "text/plain": [
       "                                  person           event  \\\n",
       "0       78afa995795e4d85b5d9ceeca43f5fef  offer received   \n",
       "1       a03223e636434f42ac4c3df47e8bac43  offer received   \n",
       "2       e2127556f4f64592b11af22de27a7932  offer received   \n",
       "3       8ec6ce2a7e7949b1bf142def7d0e0586  offer received   \n",
       "4       68617ca6246f4fbc85e91a2a49552598  offer received   \n",
       "...                                  ...             ...   \n",
       "306529  b3a1272bc9904337b331bf348c3e8c17     transaction   \n",
       "306530  68213b08d99a4ae1b0dcb72aebd9aa35     transaction   \n",
       "306531  a00058cf10334a308c68e7631c529907     transaction   \n",
       "306532  76ddbd6576844afe811f1a3c0fbb5bec     transaction   \n",
       "306533  c02b10e8752c4d8e9b73f918558531f7     transaction   \n",
       "\n",
       "                                                   value  time  \\\n",
       "0       {'offer id': '9b98b8c7a33c4b65b9aebfe6a799e6d9'}     0   \n",
       "1       {'offer id': '0b1e1539f2cc45b7b9fa7c272da2e1d7'}     0   \n",
       "2       {'offer id': '2906b810c7d4411798c6938adc9daaa5'}     0   \n",
       "3       {'offer id': 'fafdcd668e3743c1bb461111dcafc2a4'}     0   \n",
       "4       {'offer id': '4d5c57ea9a6940dd891ad53e9dbe8da0'}     0   \n",
       "...                                                  ...   ...   \n",
       "306529                    {'amount': 1.5899999999999999}   714   \n",
       "306530                                  {'amount': 9.53}   714   \n",
       "306531                                  {'amount': 3.61}   714   \n",
       "306532                    {'amount': 3.5300000000000002}   714   \n",
       "306533                                  {'amount': 4.05}   714   \n",
       "\n",
       "                             value_trans  \n",
       "0                                      D  \n",
       "1                                      E  \n",
       "2       2906b810c7d4411798c6938adc9daaa5  \n",
       "3       fafdcd668e3743c1bb461111dcafc2a4  \n",
       "4                                      B  \n",
       "...                                  ...  \n",
       "306529                              1.59  \n",
       "306530                              9.53  \n",
       "306531                              3.61  \n",
       "306532                              3.53  \n",
       "306533                              4.05  \n",
       "\n",
       "[306534 rows x 5 columns]"
      ]
     },
     "execution_count": 14,
     "metadata": {},
     "output_type": "execute_result"
    }
   ],
   "source": [
    "transcript"
   ]
  },
  {
   "cell_type": "code",
   "execution_count": null,
   "id": "df74815f",
   "metadata": {},
   "outputs": [],
   "source": [
    "transcript[transcript['event'] == \"offer received\"]"
   ]
  },
  {
   "cell_type": "code",
   "execution_count": null,
   "id": "34181fb0",
   "metadata": {},
   "outputs": [],
   "source": [
    "#check if the offer for email and web only are also part of sales data\n",
    "\n",
    "transcript[transcript['value'] == {'offer id': '0b1e1539f2cc45b7b9fa7c272da2e1d7'}]\n"
   ]
  },
  {
   "cell_type": "code",
   "execution_count": null,
   "id": "acc4c6a6",
   "metadata": {},
   "outputs": [],
   "source": [
    "transcript.head(3)"
   ]
  },
  {
   "cell_type": "code",
   "execution_count": null,
   "id": "ed97e301",
   "metadata": {},
   "outputs": [],
   "source": [
    "transcript.shape"
   ]
  },
  {
   "cell_type": "code",
   "execution_count": null,
   "id": "e7714e2a",
   "metadata": {},
   "outputs": [],
   "source": [
    "transcript.time."
   ]
  },
  {
   "cell_type": "code",
   "execution_count": null,
   "id": "fe860c37",
   "metadata": {},
   "outputs": [],
   "source": [
    "# check for any nulls existing in this df.\n",
    "transcript.isnull().sum()"
   ]
  },
  {
   "cell_type": "code",
   "execution_count": null,
   "id": "e3362a65",
   "metadata": {},
   "outputs": [],
   "source": [
    "# check for duplicates\n",
    "transcript.columns.duplicated().sum()"
   ]
  },
  {
   "cell_type": "code",
   "execution_count": null,
   "id": "8562db27",
   "metadata": {},
   "outputs": [],
   "source": [
    "# checking the count of each event type\n",
    "transcript[\"event\"].value_counts()"
   ]
  },
  {
   "cell_type": "code",
   "execution_count": null,
   "id": "a57b4988",
   "metadata": {},
   "outputs": [],
   "source": [
    "transcript.event.unique()"
   ]
  },
  {
   "cell_type": "code",
   "execution_count": null,
   "id": "b08444f0",
   "metadata": {},
   "outputs": [],
   "source": [
    "#we try to recode the value column"
   ]
  },
  {
   "cell_type": "code",
   "execution_count": null,
   "id": "5903c1d7",
   "metadata": {},
   "outputs": [],
   "source": [
    "transcript.describe()"
   ]
  },
  {
   "cell_type": "code",
   "execution_count": null,
   "id": "1a5211ed",
   "metadata": {},
   "outputs": [],
   "source": [
    "714/24"
   ]
  },
  {
   "cell_type": "code",
   "execution_count": null,
   "id": "52e4b9e4",
   "metadata": {},
   "outputs": [],
   "source": [
    "#isadir"
   ]
  }
 ],
 "metadata": {
  "kernelspec": {
   "display_name": "Python 3",
   "language": "python",
   "name": "python3"
  },
  "language_info": {
   "codemirror_mode": {
    "name": "ipython",
    "version": 3
   },
   "file_extension": ".py",
   "mimetype": "text/x-python",
   "name": "python",
   "nbconvert_exporter": "python",
   "pygments_lexer": "ipython3",
   "version": "3.8.8"
  }
 },
 "nbformat": 4,
 "nbformat_minor": 5
}
